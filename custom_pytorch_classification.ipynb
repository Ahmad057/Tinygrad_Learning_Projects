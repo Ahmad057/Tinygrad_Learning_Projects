{
 "cells": [
  {
   "cell_type": "code",
   "execution_count": 3,
   "metadata": {},
   "outputs": [],
   "source": [
    "import os\n",
    "import time\n",
    "import torch\n",
    "from PIL import Image\n",
    "import torch.nn as nn \n",
    "import torch.optim as optim \n",
    "import torch.nn.functional as F \n",
    "import torchvision.transforms as transforms \n",
    "from torch.utils.data import DataLoader, Dataset "
   ]
  },
  {
   "cell_type": "code",
   "execution_count": 12,
   "metadata": {},
   "outputs": [],
   "source": [
    "def list_to_string_val(flatten_list):\n",
    "  return \" \".join(str(item) for item in flatten_list)\n",
    "\n",
    "def float32_to_int(num):\n",
    "    scaled_num = int(round(num * 1000))\n",
    "    return scaled_num\n",
    "\n",
    "def extract_feature_map(x):\n",
    "  feature_map = x.numpy().flatten()\n",
    "  feature_map_string_values = list_to_string_val(feature_map)\n",
    "\n",
    "  with open('feature_map_pytorch.txt','wb') as f:\n",
    "          f.write(str.encode(feature_map_string_values))\n",
    "          f.write(str.encode(\"\\n\"))"
   ]
  },
  {
   "cell_type": "code",
   "execution_count": 18,
   "metadata": {},
   "outputs": [],
   "source": [
    "class LeNetTinyNet(nn.Module):\n",
    "    def __init__(self):\n",
    "        super().__init__()\n",
    "        \n",
    "        # onvolutional layers (3,16,32)\n",
    "        self.conv1 = nn.Conv2d(in_channels = 3, out_channels = 16, kernel_size=(5, 5), stride=2, padding=1)\n",
    "        self.conv2 = nn.Conv2d(in_channels = 16, out_channels = 32, kernel_size=(5, 5), stride=2, padding=1)\n",
    "        self.conv3 = nn.Conv2d(in_channels = 32, out_channels = 64, kernel_size=(3, 3), padding=1)\n",
    "\n",
    "        # conected layers\n",
    "        self.fc1 = nn.Linear(in_features= 64 * 6 * 6, out_features=500)\n",
    "        self.fc2 = nn.Linear(in_features=500, out_features=50)\n",
    "        self.fc3 = nn.Linear(in_features=50, out_features=2)\n",
    "\n",
    "\n",
    "    def forward(self, X):\n",
    "\n",
    "        X = F.relu(self.conv1(X))\n",
    "        X = F.max_pool2d(X, 2)\n",
    "        # extract_feature_map(X)\n",
    "\n",
    "        X = F.relu(self.conv2(X))\n",
    "        X = F.max_pool2d(X, 2)\n",
    "\n",
    "        X = F.relu(self.conv3(X))\n",
    "        X = F.max_pool2d(X, 2)\n",
    "\n",
    "        X = X.view(X.shape[0], -1)\n",
    "        X = F.relu(self.fc1(X))\n",
    "        X = F.relu(self.fc2(X))\n",
    "        X = self.fc3(X)\n",
    "\n",
    "        return X.log_softmax(dim=-1)\n",
    "\n",
    "\n",
    "net = LeNetTinyNet()"
   ]
  },
  {
   "cell_type": "code",
   "execution_count": 26,
   "metadata": {},
   "outputs": [
    {
     "name": "stdout",
     "output_type": "stream",
     "text": [
      "tensor([[[[ 0.2000,  0.2157,  0.2157,  ..., -0.6157, -0.6627, -0.6863],\n",
      "          [ 0.2471,  0.2235,  0.2314,  ..., -0.5529, -0.5765, -0.6000],\n",
      "          [ 0.2863,  0.2627,  0.2706,  ..., -0.5294, -0.4980, -0.5373],\n",
      "          ...,\n",
      "          [-0.9294, -0.9059, -0.8980,  ..., -0.6392, -0.6784, -0.7176],\n",
      "          [-0.9137, -0.8902, -0.8980,  ..., -0.6706, -0.7020, -0.7176],\n",
      "          [-0.9216, -0.8980, -0.8980,  ..., -0.6941, -0.7176, -0.7255]],\n",
      "\n",
      "         [[ 0.1294,  0.0980,  0.1059,  ..., -0.8039, -0.8118, -0.8275],\n",
      "          [ 0.1608,  0.1529,  0.1529,  ..., -0.7725, -0.7961, -0.8118],\n",
      "          [ 0.1922,  0.1922,  0.1843,  ..., -0.7647, -0.7804, -0.7882],\n",
      "          ...,\n",
      "          [-0.8431, -0.8196, -0.8353,  ..., -0.6863, -0.7176, -0.7412],\n",
      "          [-0.8510, -0.8275, -0.8431,  ..., -0.6863, -0.7255, -0.7255],\n",
      "          [-0.8510, -0.8353, -0.8353,  ..., -0.7020, -0.7255, -0.7255]],\n",
      "\n",
      "         [[ 0.0667,  0.0745,  0.0431,  ..., -0.8588, -0.8510, -0.8667],\n",
      "          [ 0.0980,  0.0902,  0.0745,  ..., -0.8588, -0.8588, -0.8824],\n",
      "          [ 0.1373,  0.1216,  0.1294,  ..., -0.8431, -0.8510, -0.8667],\n",
      "          ...,\n",
      "          [-0.8275, -0.7804, -0.7961,  ..., -0.6784, -0.6784, -0.7333],\n",
      "          [-0.8275, -0.7882, -0.7961,  ..., -0.6863, -0.6941, -0.7098],\n",
      "          [-0.8275, -0.7882, -0.7882,  ..., -0.6941, -0.7098, -0.7255]]]])\n"
     ]
    },
    {
     "ename": "OSError",
     "evalue": "[Errno 28] No space left on device",
     "output_type": "error",
     "traceback": [
      "\u001b[0;31m---------------------------------------------------------------------------\u001b[0m",
      "\u001b[0;31mOSError\u001b[0m                                   Traceback (most recent call last)",
      "\u001b[0;31mOSError\u001b[0m: [Errno 28] No space left on device",
      "\nDuring handling of the above exception, another exception occurred:\n",
      "\u001b[0;31mOSError\u001b[0m                                   Traceback (most recent call last)",
      "Cell \u001b[0;32mIn[26], line 22\u001b[0m\n\u001b[1;32m     20\u001b[0m file \u001b[38;5;241m=\u001b[39m \u001b[38;5;28mopen\u001b[39m(\u001b[38;5;124m\"\u001b[39m\u001b[38;5;124mimage.txt\u001b[39m\u001b[38;5;124m\"\u001b[39m, \u001b[38;5;124m\"\u001b[39m\u001b[38;5;124mw\u001b[39m\u001b[38;5;124m\"\u001b[39m)\n\u001b[1;32m     21\u001b[0m file\u001b[38;5;241m.\u001b[39mwrite(\u001b[38;5;124mf\u001b[39m\u001b[38;5;124m\"\u001b[39m\u001b[38;5;132;01m{\u001b[39;00mimage\u001b[38;5;132;01m}\u001b[39;00m\u001b[38;5;124m\"\u001b[39m)\n\u001b[0;32m---> 22\u001b[0m \u001b[43mfile\u001b[49m\u001b[38;5;241;43m.\u001b[39;49m\u001b[43mclose\u001b[49m\u001b[43m(\u001b[49m\u001b[43m)\u001b[49m\n\u001b[1;32m     24\u001b[0m \u001b[38;5;66;03m# Perform inference\u001b[39;00m\n\u001b[1;32m     25\u001b[0m \u001b[38;5;28;01mwith\u001b[39;00m torch\u001b[38;5;241m.\u001b[39mno_grad():\n",
      "\u001b[0;31mOSError\u001b[0m: [Errno 28] No space left on device"
     ]
    }
   ],
   "source": [
    "# Load the trained model\n",
    "model_path = \"model/pytorch_cat_dog_model.pth\"\n",
    "model = LeNetTinyNet()  # Instantiate your CNN model class\n",
    "model.load_state_dict(torch.load(model_path))\n",
    "model.eval()\n",
    "\n",
    "# Preprocess the unseen data\n",
    "image_path = \"Dataset/Dog/4.jpg\"\n",
    "transform = transforms.Compose([\n",
    "    transforms.Resize((224, 224)),  # Apply the necessary transformations\n",
    "    transforms.ToTensor(),\n",
    "    transforms.Normalize((0.5,), (0.5,))\n",
    "])\n",
    "image = Image.open(image_path).convert(\"RGB\")\n",
    "image = transform(image)\n",
    "\n",
    "image = image.unsqueeze(0)  \n",
    "print(image)\n",
    "\n",
    "\n",
    "# Perform inference\n",
    "with torch.no_grad():\n",
    "    output = model(image)\n",
    "\n",
    "# Interpret the model's output\n",
    "probabilities = torch.softmax(output, dim=1)\n",
    "predicted_class = torch.argmax(probabilities, dim=1)\n",
    "\n",
    "# Print the predicted class\n",
    "print(\"Predicted Class:\", predicted_class.item())\n"
   ]
  },
  {
   "cell_type": "code",
   "execution_count": null,
   "metadata": {},
   "outputs": [],
   "source": []
  }
 ],
 "metadata": {
  "kernelspec": {
   "display_name": "env",
   "language": "python",
   "name": "python3"
  },
  "language_info": {
   "codemirror_mode": {
    "name": "ipython",
    "version": 3
   },
   "file_extension": ".py",
   "mimetype": "text/x-python",
   "name": "python",
   "nbconvert_exporter": "python",
   "pygments_lexer": "ipython3",
   "version": "3.8.10"
  },
  "orig_nbformat": 4
 },
 "nbformat": 4,
 "nbformat_minor": 2
}
